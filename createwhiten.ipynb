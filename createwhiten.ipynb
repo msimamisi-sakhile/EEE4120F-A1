{
 "cells": [
  {
   "cell_type": "markdown",
   "id": "fda55370",
   "metadata": {},
   "source": [
    "#### 1.2.1 Measuring Execution Time of rand()"
   ]
  },
  {
   "cell_type": "code",
   "execution_count": null,
   "id": "e583a1fb",
   "metadata": {},
   "outputs": [],
   "source": [
    "using WAV, TickTock, Plots"
   ]
  },
  {
   "cell_type": "code",
   "execution_count": null,
   "id": "fea2ca93",
   "metadata": {},
   "outputs": [],
   "source": [
    "tick() #start timer\n",
    "global whiteNoise = (rand(48000)*2).-1\n",
    "tock() #stop timer\n",
    "\n",
    "WAV.wavwrite(whiteNoise, \"whiteNoise.wav\", Fs=4800) #sample freq is 4800Hz"
   ]
  },
  {
   "cell_type": "markdown",
   "id": "463b0f5e",
   "metadata": {},
   "source": [
    "#### 1.2.2 White Noise Generator"
   ]
  },
  {
   "cell_type": "code",
   "execution_count": null,
   "id": "11de7ebd",
   "metadata": {},
   "outputs": [],
   "source": [
    "function createwhiten(N)\n",
    "    samplesArray = Float64[]\n",
    "    Fs = 48000\n",
    "    \n",
    "    for i in 1:Fs\n",
    "        sample = 2*rand()-1 #random white noise sample \n",
    "        append!(samplesArray, sample)\n",
    "    end\n",
    "    \n",
    "    println(size(samples)) #print size of the array of white noise samples\n",
    "    return samplesArray \n",
    "end\n",
    "\n",
    "global returnedNoise = createwhiten(1000)"
   ]
  },
  {
   "cell_type": "code",
   "execution_count": null,
   "id": "a4f5278c",
   "metadata": {},
   "outputs": [],
   "source": [
    "WAV.wavwrite(returnedNoise, \"white_noise_sound2.wav\", Fs=48000/1000)"
   ]
  },
  {
   "cell_type": "code",
   "execution_count": null,
   "id": "056c3b1d",
   "metadata": {},
   "outputs": [],
   "source": [
    "h = Plots.histogram(returnedNoise)\n",
    "Plots.display(h)\n",
    "title = \"Random Number Distribution\"\n",
    "xlabel = \"Number Generated\"\n",
    "ylabel = \"Frequency\"\n",
    "readline()"
   ]
  },
  {
   "cell_type": "markdown",
   "id": "61d3de92",
   "metadata": {},
   "source": [
    "#### 1.2.5 Implementing Pearson's Correlation"
   ]
  },
  {
   "cell_type": "code",
   "execution_count": null,
   "id": "844750ed",
   "metadata": {},
   "outputs": [],
   "source": [
    "function corr()\n",
    "    x_avg = mean(whiteNoise)\n",
    "    y_avg = mean(returnedNoise)\n",
    "    \n",
    "    sigma_x_y = sum((whiteNoise.-x_avg).*(returnedNoise.-y_avg))\n",
    "    root_sigma_x = sqrt(sum(whiteNoise.-x_avg).^2)\n",
    "    root_sigma_y = sqrt(sum(returnedNoise.-y_avg).^2)\n",
    "    \n",
    "    return sigma_x_y/(root_sigma_x.*root_sigma_y)\n",
    "end"
   ]
  },
  {
   "cell_type": "code",
   "execution_count": null,
   "id": "a3cf45ac",
   "metadata": {},
   "outputs": [],
   "source": []
  }
 ],
 "metadata": {
  "kernelspec": {
   "display_name": "Julia 1.8.5",
   "language": "julia",
   "name": "julia-1.8"
  },
  "language_info": {
   "file_extension": ".jl",
   "mimetype": "application/julia",
   "name": "julia",
   "version": "1.8.5"
  }
 },
 "nbformat": 4,
 "nbformat_minor": 5
}
